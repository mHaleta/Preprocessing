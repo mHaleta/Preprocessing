{
 "cells": [
  {
   "cell_type": "code",
   "execution_count": null,
   "metadata": {},
   "outputs": [],
   "source": [
    "import numpy as np\n",
    "import matplotlib.pyplot as plt\n",
    "from sympy import Symbol, Poly, diff, lambdify, Piecewise\n",
    "\n",
    "%matplotlib inline"
   ]
  },
  {
   "cell_type": "code",
   "execution_count": 3,
   "metadata": {},
   "outputs": [
    {
     "ename": "ValueError",
     "evalue": "\nCan't calculate derivative wrt 0.234000000000000.",
     "output_type": "error",
     "traceback": [
      "\u001b[1;31m---------------------------------------------------------------------------\u001b[0m",
      "\u001b[1;31mValueError\u001b[0m                                Traceback (most recent call last)",
      "\u001b[1;32m<ipython-input-3-3a6a2f2bdc5a>\u001b[0m in \u001b[0;36m<module>\u001b[1;34m\u001b[0m\n\u001b[0;32m      9\u001b[0m \u001b[1;31m#prime_lam = lambdify(Symbol('x'), lambdify(Symbol('x'), prime, modules=[sympy, mpmath])(Symbol('x')), modules=np)(0.234)\u001b[0m\u001b[1;33m\u001b[0m\u001b[1;33m\u001b[0m\u001b[1;33m\u001b[0m\u001b[0m\n\u001b[0;32m     10\u001b[0m \u001b[1;31m#prime_lam_num = lambdify(Symbol('x'), prime_lam_sym, modules=mpmath)\u001b[0m\u001b[1;33m\u001b[0m\u001b[1;33m\u001b[0m\u001b[1;33m\u001b[0m\u001b[0m\n\u001b[1;32m---> 11\u001b[1;33m \u001b[0mprime_lam\u001b[0m \u001b[1;33m=\u001b[0m \u001b[0mlambdify\u001b[0m\u001b[1;33m(\u001b[0m\u001b[0msymbols\u001b[0m\u001b[1;33m(\u001b[0m\u001b[1;34m'x'\u001b[0m\u001b[1;33m)\u001b[0m\u001b[1;33m,\u001b[0m \u001b[0mprime\u001b[0m\u001b[1;33m,\u001b[0m \u001b[0mmodules\u001b[0m\u001b[1;33m=\u001b[0m\u001b[1;33m[\u001b[0m\u001b[0msympy\u001b[0m\u001b[1;33m,\u001b[0m \u001b[0mmpmath\u001b[0m\u001b[1;33m,\u001b[0m \u001b[0mnp\u001b[0m\u001b[1;33m]\u001b[0m\u001b[1;33m)\u001b[0m\u001b[1;33m(\u001b[0m\u001b[1;36m0.234\u001b[0m\u001b[1;33m)\u001b[0m\u001b[1;33m\u001b[0m\u001b[1;33m\u001b[0m\u001b[0m\n\u001b[0m\u001b[0;32m     12\u001b[0m \u001b[0mprime_lam\u001b[0m\u001b[1;33m\u001b[0m\u001b[1;33m\u001b[0m\u001b[0m\n",
      "\u001b[1;32mC:\\Users\\MGaleta\\VIKozlov_files\\WPy-3670\\python-3.6.7.amd64\\lib\\site-packages\\sympy\\__init__.py\u001b[0m in \u001b[0;36m_lambdifygenerated\u001b[1;34m(x)\u001b[0m\n\u001b[0;32m      3\u001b[0m   \u001b[1;31m# Derivative\u001b[0m\u001b[1;33m\u001b[0m\u001b[1;33m\u001b[0m\u001b[1;33m\u001b[0m\u001b[0m\n\u001b[0;32m      4\u001b[0m   \u001b[1;31m# Derivative\u001b[0m\u001b[1;33m\u001b[0m\u001b[1;33m\u001b[0m\u001b[1;33m\u001b[0m\u001b[0m\n\u001b[1;32m----> 5\u001b[1;33m -((re(x) + mpf((1, 884279719003555, -49, 50)))*Derivative(re(x), x) + im(x)*Derivative(im(x), x))*sign(x + mpf((1, 884279719003555, -49, 50)))/(x + mpf((1, 884279719003555, -49, 50))))\n\u001b[0m",
      "\u001b[1;32mC:\\Users\\MGaleta\\VIKozlov_files\\WPy-3670\\python-3.6.7.amd64\\lib\\site-packages\\sympy\\core\\function.py\u001b[0m in \u001b[0;36m__new__\u001b[1;34m(cls, expr, *variables, **kwargs)\u001b[0m\n\u001b[0;32m   1285\u001b[0m                 raise ValueError(filldedent('''\n\u001b[0;32m   1286\u001b[0m                     Can't calculate derivative wrt %s.%s''' % (v,\n\u001b[1;32m-> 1287\u001b[1;33m                     __)))\n\u001b[0m\u001b[0;32m   1288\u001b[0m \u001b[1;33m\u001b[0m\u001b[0m\n\u001b[0;32m   1289\u001b[0m         \u001b[1;31m# We make a special case for 0th derivative, because there is no\u001b[0m\u001b[1;33m\u001b[0m\u001b[1;33m\u001b[0m\u001b[1;33m\u001b[0m\u001b[0m\n",
      "\u001b[1;31mValueError\u001b[0m: \nCan't calculate derivative wrt 0.234000000000000."
     ]
    }
   ],
   "source": [
    "from "
   ]
  },
  {
   "cell_type": "code",
   "execution_count": null,
   "metadata": {},
   "outputs": [],
   "source": [
    "import sympy\n",
    "sympy.__version__"
   ]
  },
  {
   "cell_type": "code",
   "execution_count": null,
   "metadata": {},
   "outputs": [],
   "source": [
    "class OdeHalfAnalyticalSolve:\n",
    "    \"\"\" Only for temperature problem\n",
    "        du/dt = a^2 d^2u/dt^2 \"\"\"\n",
    "    \n",
    "    def __init__(self, k, U_left, U_right, B_0, t0, x0, step_t, step_x, T, L, degree=1):\n",
    "        self.k = k\n",
    "        self.U_left = U_left\n",
    "        self.U_right = U_right\n",
    "        self.B_0 = B_0\n",
    "        self.t_part = np.arange(t0, T+step_t, step_t)\n",
    "        self.x_part = np.arange(x0, L+step_x, step_x)\n",
    "        self.T = T\n",
    "        self.L = L\n",
    "        self.degree = degree\n",
    "        \n",
    "    def get_polynomial_coeffs(self):\n",
    "        pass\n",
    "    \n",
    "    def get_prime(self, f):\n",
    "        P = f(Symbol('x'))\n",
    "        prime = P.diff(Symbol('x'))\n",
    "        return lambdify(Symbol('x'), prime)\n",
    "    \n",
    "    def solve_system(self):\n",
    "        dim = 4*(self.x_part.shape[0]-1)\n",
    "        A = np.zeros((dim, dim))\n",
    "        B = np.zeros(dim)\n",
    "        \n",
    "        A[0][0] = 1\n",
    "        A[-1][-2] = 1\n",
    "        \n",
    "        B[0] = self.U_left\n",
    "        B[-1] = self.U_right\n",
    "        \n",
    "        A_conn = lambda x, b: np.array([[-np.cosh(x/b), b*np.sinh(x/b)/self.k, 1, 0],\n",
    "                                         [self.k*np.sinh(x/b)/b, -np.cosh(x/b), 0, 1]])\n",
    "        \n",
    "        B_conn = lambda x: np.array([B_prev(x), -self.k*B_prev_prime(x)])\n",
    "        \n",
    "        A_conj = np.array([[1, 0, -1, 0], [0, 1, 0, -1]])\n",
    "        \n",
    "    def solve():\n",
    "        for dt in self.t_part"
   ]
  },
  {
   "cell_type": "code",
   "execution_count": null,
   "metadata": {},
   "outputs": [],
   "source": [
    "from sympy import Symbol, Poly, diff, lambdify, Piecewise\n",
    "f = lambda x: x**3 + 2*x**2 - 5*x + 1\n",
    "P = f(Symbol('x'))\n",
    "prime = P.diff(Symbol('x'))\n",
    "prime_lam = lambdify(Symbol('x'), prime)\n",
    "prime_lam(1)"
   ]
  },
  {
   "cell_type": "code",
   "execution_count": null,
   "metadata": {},
   "outputs": [],
   "source": [
    "prime"
   ]
  },
  {
   "cell_type": "code",
   "execution_count": null,
   "metadata": {},
   "outputs": [],
   "source": [
    "f = lambda x: x if x <= 1 else 2 - x\n",
    "P = f(Symbol('x'))"
   ]
  },
  {
   "cell_type": "code",
   "execution_count": null,
   "metadata": {},
   "outputs": [],
   "source": []
  }
 ],
 "metadata": {
  "kernelspec": {
   "display_name": "Python 3",
   "language": "python",
   "name": "python3"
  },
  "language_info": {
   "codemirror_mode": {
    "name": "ipython",
    "version": 3
   },
   "file_extension": ".py",
   "mimetype": "text/x-python",
   "name": "python",
   "nbconvert_exporter": "python",
   "pygments_lexer": "ipython3",
   "version": "3.6.7"
  }
 },
 "nbformat": 4,
 "nbformat_minor": 2
}
