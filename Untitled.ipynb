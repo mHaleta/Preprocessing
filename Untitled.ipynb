{
 "cells": [
  {
   "cell_type": "code",
   "execution_count": 1,
   "metadata": {},
   "outputs": [],
   "source": [
    "import numpy as np\n",
    "import matplotlib.pyplot as plt\n",
    "from sympy import Symbol, Poly, diff, lambdify, Piecewise\n",
    "\n",
    "%matplotlib inline"
   ]
  },
  {
   "cell_type": "code",
   "execution_count": 9,
   "metadata": {},
   "outputs": [],
   "source": [
    "class OdeHalfAnalyticalSolve:\n",
    "    \"\"\" Only for temperature problem\n",
    "        du/dt = a^2 d^2u/dt^2 \"\"\"\n",
    "    \n",
    "    def __init__(self, k, a2, U_left, U_right, B_0, t0, x0, step_t, step_x, T, L, degree=1):\n",
    "        self.k = k\n",
    "        self.a2 = a2\n",
    "        self.U_left = U_left\n",
    "        self.U_right = U_right\n",
    "        self.B_0 = B_0\n",
    "        self.t_part = np.arange(t0, T+step_t, step_t)\n",
    "        self.x_part = np.arange(x0, L+step_x, step_x)\n",
    "        self.T = T\n",
    "        self.L = L\n",
    "        self.degree = degree\n",
    "        \n",
    "    def make_polynomial_approximation(self, UQ, A, B, Z, Z_prime):\n",
    "        strip = []\n",
    "        x_strip = []\n",
    "        \n",
    "        for i in range(self.x_part.shape[0]-1):\n",
    "            dots_in_area = np.linspace(self.x_part[i], self.x_part[i+1], 4, endpoint=True)\n",
    "            x_strip.append(dots_in_area)\n",
    "            \n",
    "    \n",
    "    def get_polynomial_coeffs(self):\n",
    "        pass\n",
    "    \n",
    "    def get_prime(self, f):\n",
    "        if type(f) == Piecewise:\n",
    "            prime = f.diff(Symbol('x'))\n",
    "            return lambdify(Symbol('x'), prime)\n",
    "        else:\n",
    "            P = f(Symbol('x'))\n",
    "            prime = P.diff(Symbol('x'))\n",
    "            return lambdify(Symbol('x'), prime)\n",
    "    \n",
    "    def solve_system(self, t, Z, Z_prime):\n",
    "        dim = 4*(self.x_part.shape[0]-1)\n",
    "        A = np.zeros((dim, dim))\n",
    "        B = np.zeros(dim)\n",
    "        \n",
    "        A[0][0] = 1\n",
    "        A[-1][-2] = 1\n",
    "        \n",
    "        B[0] = self.U_left\n",
    "        B[-1] = self.U_right\n",
    "        \n",
    "        A_conn = lambda x, b: np.array([[-np.cosh(x/b), b*np.sinh(x/b)/self.k, 1, 0],\n",
    "                                         [self.k*np.sinh(x/b)/b, -np.cosh(x/b), 0, 1]])\n",
    "        \n",
    "        B_conn = lambda f, f_prime, x: np.array([f(x), -self.k*f_prime(x)])\n",
    "        \n",
    "        A_conj = np.array([[1, 0, -1, 0], [0, 1, 0, -1]])\n",
    "        \n",
    "        for i in range(dim//4):\n",
    "            A[1+4*i:3+4*i, 4*i:4*(i+1)] = A_conn(self.x_part[i+1], np.sqrt(t*self.a2/2))\n",
    "            B[1+4*i:3+4*i] = B_conn(Z[i], Z_prime[i], self.x_part[i+1])\n",
    "            \n",
    "        for i in range((dim//4)-1):\n",
    "            A[3+4*i:5+4*i, 2+4*i:2+4*(i+1)] = A_conj\n",
    "            \n",
    "        UQ = np.linalg.solve(A, B)\n",
    "        \n",
    "        return UQ, A_conn, B_conn\n",
    "        \n",
    "    def solve_ode():\n",
    "        dt = self.t_part[1]\n",
    "        Z = []\n",
    "        Z_prime = []\n",
    "        \n",
    "        for i in range(self.x_part.shape[0]-1):\n",
    "            Z.append(lambdify(Symbol('x'), self.B_0))\n",
    "            Z_prime.append(get_prime(self.B_0))\n",
    "        \n",
    "        UQ, A, B = self.solve_system(dt, Z, Z_prime)\n",
    "        for dt in self.t_part[2:]:\n",
    "            "
   ]
  },
  {
   "cell_type": "code",
   "execution_count": 10,
   "metadata": {
    "scrolled": false
   },
   "outputs": [
    {
     "data": {
      "text/plain": [
       "array([[ 1.0000000e+00,  0.0000000e+00,  0.0000000e+00,  0.0000000e+00,\n",
       "         0.0000000e+00,  0.0000000e+00,  0.0000000e+00,  0.0000000e+00],\n",
       "       [-6.3189738e+05,  3.5324137e+04,  1.0000000e+00,  0.0000000e+00,\n",
       "         0.0000000e+00,  0.0000000e+00,  0.0000000e+00,  0.0000000e+00],\n",
       "       [ 1.1303724e+07, -6.3189738e+05,  0.0000000e+00,  1.0000000e+00,\n",
       "         0.0000000e+00,  0.0000000e+00,  0.0000000e+00,  0.0000000e+00],\n",
       "       [ 0.0000000e+00,  0.0000000e+00,  1.0000000e+00,  0.0000000e+00,\n",
       "        -1.0000000e+00,  0.0000000e+00,  0.0000000e+00,  0.0000000e+00],\n",
       "       [ 0.0000000e+00,  0.0000000e+00,  0.0000000e+00,  1.0000000e+00,\n",
       "         0.0000000e+00, -1.0000000e+00,  0.0000000e+00,  0.0000000e+00],\n",
       "       [ 0.0000000e+00,  0.0000000e+00,  0.0000000e+00,  0.0000000e+00,\n",
       "        -7.9858860e+11,  4.4642460e+10,  1.0000000e+00,  0.0000000e+00],\n",
       "       [ 0.0000000e+00,  0.0000000e+00,  0.0000000e+00,  0.0000000e+00,\n",
       "         1.4285587e+13, -7.9858860e+11,  0.0000000e+00,  1.0000000e+00],\n",
       "       [ 0.0000000e+00,  0.0000000e+00,  0.0000000e+00,  0.0000000e+00,\n",
       "         0.0000000e+00,  0.0000000e+00,  1.0000000e+00,  0.0000000e+00]],\n",
       "      dtype=float32)"
      ]
     },
     "execution_count": 10,
     "metadata": {},
     "output_type": "execute_result"
    }
   ],
   "source": [
    "ode = OdeHalfAnalyticalSolve(2, 0, 0, 0, 0, 0, 0.025, np.pi/2, 3, np.pi)\n",
    "ode.solve_system(0.025)"
   ]
  },
  {
   "cell_type": "code",
   "execution_count": 18,
   "metadata": {},
   "outputs": [
    {
     "name": "stdout",
     "output_type": "stream",
     "text": [
      "True\n"
     ]
    }
   ],
   "source": [
    "from sympy.abc import x\n",
    "p = Piecewise((x, (x<=np.pi/2 )&(x>=0)), (np.pi-x, (x>np.pi/2)&(x<=np.pi)))\n",
    "print(type(p) == Piecewise)"
   ]
  },
  {
   "cell_type": "code",
   "execution_count": null,
   "metadata": {},
   "outputs": [],
   "source": []
  }
 ],
 "metadata": {
  "kernelspec": {
   "display_name": "Python 3",
   "language": "python",
   "name": "python3"
  },
  "language_info": {
   "codemirror_mode": {
    "name": "ipython",
    "version": 3
   },
   "file_extension": ".py",
   "mimetype": "text/x-python",
   "name": "python",
   "nbconvert_exporter": "python",
   "pygments_lexer": "ipython3",
   "version": "3.7.4"
  }
 },
 "nbformat": 4,
 "nbformat_minor": 2
}
